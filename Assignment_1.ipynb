{
 "cells": [
  {
   "cell_type": "code",
   "execution_count": 54,
   "id": "bb642bc8",
   "metadata": {},
   "outputs": [
    {
     "name": "stdout",
     "output_type": "stream",
     "text": [
      "\n",
      " Matrix A is:\n",
      "\n",
      "         1          2          3 \n",
      "\n",
      "         4          5          6 \n",
      "\n",
      "         7          8          9 \n",
      "\n",
      "\n",
      "================================================\n",
      "\n"
     ]
    },
    {
     "data": {
      "text/html": [
       "<div>\n",
       "<style scoped>\n",
       "    .dataframe tbody tr th:only-of-type {\n",
       "        vertical-align: middle;\n",
       "    }\n",
       "\n",
       "    .dataframe tbody tr th {\n",
       "        vertical-align: top;\n",
       "    }\n",
       "\n",
       "    .dataframe thead th {\n",
       "        text-align: right;\n",
       "    }\n",
       "</style>\n",
       "<table border=\"1\" class=\"dataframe\">\n",
       "  <thead>\n",
       "    <tr style=\"text-align: right;\">\n",
       "      <th></th>\n",
       "      <th>vector</th>\n",
       "    </tr>\n",
       "  </thead>\n",
       "  <tbody>\n",
       "    <tr>\n",
       "      <th>0</th>\n",
       "      <td>3</td>\n",
       "    </tr>\n",
       "    <tr>\n",
       "      <th>1</th>\n",
       "      <td>-2</td>\n",
       "    </tr>\n",
       "    <tr>\n",
       "      <th>2</th>\n",
       "      <td>10</td>\n",
       "    </tr>\n",
       "  </tbody>\n",
       "</table>\n",
       "</div>"
      ],
      "text/plain": [
       "   vector\n",
       "0       3\n",
       "1      -2\n",
       "2      10"
      ]
     },
     "execution_count": 54,
     "metadata": {},
     "output_type": "execute_result"
    }
   ],
   "source": [
    "# TASK(a)\n",
    "\n",
    "import pandas as pd\n",
    "import csv\n",
    "fields = []\n",
    "rows = []\n",
    "file=open(\"data.csv\")\n",
    "csvreader = csv.reader(file)  \n",
    "# extracting field names through first row\n",
    "fields = next(csvreader)\n",
    "# extracting each data row one by one\n",
    "for row in csvreader:\n",
    "    rows.append(row)\n",
    "print('\\n Matrix A is:\\n')\n",
    "for row in rows:\n",
    "    # parsing each column of a row\n",
    "    for col in row:\n",
    "        print(\"%10s\"%col,end=\" \"),\n",
    "    print('\\n')\n",
    "print(\"\\n================================================\\n\")    \n",
    "#for reading vector matrix from csv file\n",
    "vector_b = pd.read_csv(\"vector.csv\")\n",
    "vector_b"
   ]
  },
  {
   "cell_type": "code",
   "execution_count": 58,
   "id": "a80d5ba1",
   "metadata": {},
   "outputs": [
    {
     "name": "stdout",
     "output_type": "stream",
     "text": [
      "\n",
      " Lower Triangular Matrix(L) :\n",
      " [[1.         0.         0.        ]\n",
      " [0.14285714 1.         0.        ]\n",
      " [0.57142857 0.5        1.        ]]\n",
      "\n",
      "================================================\n",
      "\n",
      " Upper Triangular Matrix(U) :\n",
      " [[7.00000000e+00 8.00000000e+00 9.00000000e+00]\n",
      " [0.00000000e+00 8.57142857e-01 1.71428571e+00]\n",
      " [0.00000000e+00 0.00000000e+00 1.11022302e-16]]\n",
      "\n",
      "================================================\n",
      "\n",
      " After LU decomposition, original matrix is: \n",
      " [[1. 2. 3.]\n",
      " [4. 5. 6.]\n",
      " [7. 8. 9.]]\n"
     ]
    }
   ],
   "source": [
    "# Task(b)\n",
    "\n",
    "import numpy as np\n",
    "import scipy.linalg as lg\n",
    "P,L,U = lg.lu(rows)\n",
    "print(\"\\n Lower Triangular Matrix(L) :\\n\",L)\n",
    "print(\"\\n================================================\\n\")\n",
    "print(\" Upper Triangular Matrix(U) :\\n\",U)\n",
    "print(\"\\n================================================\\n\")\n",
    "D = P.dot((L.dot(U)))\n",
    "print(\" After LU decomposition, original matrix is: \\n\", D)"
   ]
  },
  {
   "cell_type": "code",
   "execution_count": 66,
   "id": "374ebcb0",
   "metadata": {},
   "outputs": [
    {
     "name": "stdout",
     "output_type": "stream",
     "text": [
      "\n",
      "Solution of Linear Equations is:\n",
      "\n",
      "[[-7.65611937e+16]\n",
      " [ 1.53122387e+17]\n",
      " [-7.65611937e+16]]\n",
      "\n",
      "================================================\n",
      "\n",
      "Rank Of Matrix: 2\n",
      "\n",
      "================================================\n",
      "\n",
      "Augmented Matrix:\n",
      "\n",
      " [[ 1  2  3  3]\n",
      " [ 4  5  6 -2]\n",
      " [ 7  8  9 10]]\n",
      "\n",
      "================================================\n",
      "\n",
      "Rank Of Augmented Matrix: 3\n",
      "\n",
      "================================================\n",
      "\n",
      "Number of variables 3\n",
      "\n",
      "================================================\n",
      "\n",
      "\n",
      "System of Linear equations have no solution\n"
     ]
    }
   ],
   "source": [
    "# Task(c)\n",
    "\n",
    "A = np.asarray(rows, dtype=np.int64)\n",
    "b = np.asarray(vector_b, dtype=np.int64)\n",
    "X = np.linalg.solve(A, b)\n",
    "print(\"\\nSolution of Linear Equations is:\\n\")\n",
    "print(X)\n",
    "print(\"\\n================================================\\n\")\n",
    "Rank = np.linalg.matrix_rank(A)\n",
    "print(\"Rank Of Matrix:\",Rank)\n",
    "print(\"\\n================================================\\n\")\n",
    "AugmentedMatrix = np.concatenate((A,b),axis=1)\n",
    "print('Augmented Matrix:\\n\\n',AugmentedMatrix)\n",
    "print(\"\\n================================================\\n\")\n",
    "Rank_Aug = np.linalg.matrix_rank(AugmentedMatrix)\n",
    "print('Rank Of Augmented Matrix:',Rank_Aug)\n",
    "print(\"\\n================================================\\n\")\n",
    "dimensionOfMatrix =A.shape \n",
    "no = dimensionOfMatrix[1]\n",
    "print(\"Number of variables\",no)\n",
    "print(\"\\n================================================\\n\")\n",
    "if (Rank == Rank_Aug and Rank==no):\n",
    "     print(\"\\nSystem of Linear equations has unique solution\")\n",
    "if (Rank == Rank_Aug and Rankx<no):  \n",
    "    print(\"\\nSystem of Linear equations have Infinietly many solutions\")\n",
    "if(Rank != Rank_Aug):\n",
    "    print(\"\\nSystem of Linear equations have no solution\")"
   ]
  },
  {
   "cell_type": "code",
   "execution_count": 61,
   "id": "71602ef5",
   "metadata": {},
   "outputs": [
    {
     "name": "stdout",
     "output_type": "stream",
     "text": [
      "Matrix : Matrix([[1, 2, 3], [4, 5, 6], [7, 8, 9]]) \n",
      "\n",
      "================================================\n",
      "\n",
      "Diagonal of a matrix : Matrix([[0, 0, 0], [0, 15/2 - 3*sqrt(33)/2, 0], [0, 0, 15/2 + 3*sqrt(33)/2]])\n"
     ]
    }
   ],
   "source": [
    "# Task(d)\n",
    "\n",
    "import sympy \n",
    "from sympy import *  \n",
    "matrix=Matrix(A)\n",
    "print(\"Matrix : {} \".format(matrix),)\n",
    "print(\"\\n================================================\\n\")\n",
    "P, D_matrix = matrix.diagonalize()\n",
    "print(\"Diagonal of a matrix : {}\".format(D_matrix))"
   ]
  },
  {
   "cell_type": "code",
   "execution_count": 65,
   "id": "43a9d92c",
   "metadata": {},
   "outputs": [
    {
     "name": "stdout",
     "output_type": "stream",
     "text": [
      "Exponential function on matrix A:\n",
      "[[2.71828183e+00 7.38905610e+00 2.00855369e+01]\n",
      " [5.45981500e+01 1.48413159e+02 4.03428793e+02]\n",
      " [1.09663316e+03 2.98095799e+03 8.10308393e+03]] \n",
      "\n",
      "\n",
      "================================================\n",
      "\n",
      "Sine function on matrix A:\n",
      "[[ 0.84147098  0.90929743  0.14112001]\n",
      " [-0.7568025  -0.95892427 -0.2794155 ]\n",
      " [ 0.6569866   0.98935825  0.41211849]] \n",
      "\n",
      "\n",
      "================================================\n",
      "\n",
      "Sigmoid function on matrix A: \n",
      "[[0.73105858 0.88079708 0.95257413]\n",
      " [0.98201379 0.99330715 0.99752738]\n",
      " [0.99908895 0.99966465 0.99987661]]\n"
     ]
    }
   ],
   "source": [
    "# Task(e)\n",
    "\n",
    "#Exponential function on matrix A\n",
    "print(\"Exponential function on matrix A:\")\n",
    "print(np.exp(A),\"\\n\")\n",
    "print(\"\\n================================================\\n\")\n",
    "#sine function on matrix A\n",
    "Sin_Values = np.sin(A)\n",
    "print(\"Sine function on matrix A:\")\n",
    "print ( Sin_Values,\"\\n\")\n",
    "print(\"\\n================================================\\n\")\n",
    "#sigmoid function on matrix A\n",
    "from scipy.special import expit\n",
    "Sigmoid_matrix=expit(A) \n",
    "print(\"Sigmoid function on matrix A: \")\n",
    "print(Sigmoid_matrix )"
   ]
  },
  {
   "cell_type": "code",
   "execution_count": 53,
   "id": "a12b4903",
   "metadata": {},
   "outputs": [
    {
     "name": "stdout",
     "output_type": "stream",
     "text": [
      "Eigenvalues\n",
      "\n",
      "[ 1.61168440e+01 -1.11684397e+00 -4.22209278e-16]\n",
      "\n",
      "================================================\n",
      "\n",
      "Eigenvectors\n",
      "\n",
      "[[-0.23197069 -0.78583024  0.40824829]\n",
      " [-0.52532209 -0.08675134 -0.81649658]\n",
      " [-0.8186735   0.61232756  0.40824829]]\n"
     ]
    }
   ],
   "source": [
    "#Task(f)\n",
    "\n",
    "eigenvalues, eigenvectors = np.linalg.eig(A)\n",
    "print(\"Eigenvalues\\n\")\n",
    "print(eigenvalues)\n",
    "print(\"\\n================================================\\n\")\n",
    "print(\"Eigenvectors\\n\")\n",
    "print(eigenvectors)"
   ]
  },
  {
   "cell_type": "code",
   "execution_count": null,
   "id": "08bb865a",
   "metadata": {},
   "outputs": [],
   "source": []
  }
 ],
 "metadata": {
  "kernelspec": {
   "display_name": "Python 3 (ipykernel)",
   "language": "python",
   "name": "python3"
  },
  "language_info": {
   "codemirror_mode": {
    "name": "ipython",
    "version": 3
   },
   "file_extension": ".py",
   "mimetype": "text/x-python",
   "name": "python",
   "nbconvert_exporter": "python",
   "pygments_lexer": "ipython3",
   "version": "3.9.12"
  }
 },
 "nbformat": 4,
 "nbformat_minor": 5
}
